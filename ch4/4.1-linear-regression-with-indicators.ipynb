{
 "cells": [
  {
   "cell_type": "markdown",
   "metadata": {},
   "source": [
    "4.2. Linear Regression of an Indicator Matrix\n",
    "\n",
    "Here each of the response categories are coded via an indicator variable.\n",
    "For example,\n",
    "\n",
    "$$Y_3 = [0, 0, 1, 0, 0]$$\n",
    "assuming we have 5 classes. This is also called _one-hot encoding_. \n",
    "\n",
    "Thus if $\\mathcal{G}$ has $K$ classes, there will be $K$ such indicators $Y_k$, $k=1,\\cdots,K$, with\n",
    "\n",
    "\\begin{equation}\n",
    "Y_k = 1 \\text{ if } G = k \\text{ else } 0.\n",
    "\\end{equation}\n",
    "\n",
    "These are collected together in a vector $Y=(Y_1,\\cdots,Y_k)$, and the $N$ training instances of these form an $N\\times K$ *indicator response matrix* $\\mathbf{Y}$, which is a matrix of $0$'s and $1$'s, with each row having a single $1$. \n",
    "\n",
    "For example,\n",
    "\n",
    "$$\n",
    "Y = \\begin{bmatrix} \n",
    "    1 & 0 & 0 & 0 & 0 \\\\\n",
    "    0 & 1 & 0 & 0 & 0 \\\\\n",
    "     & & \\vdots & &  \\\\ \n",
    "    0 & 0 & 0 & 0 & 1\n",
    " \\end{bmatrix}\n",
    "$$\n",
    "\n",
    "We fit a linear regression model to each of the columns of $\\mathbf{Y}$ simultaneously, and the fit is given by\n",
    "\n",
    "\\begin{equation}\n",
    "\\hat{\\mathbf{Y}} = \\mathbf{X}\\left(\\mathbf{X}^T\\mathbf{X}\\right)^{-1}\\mathbf{X}^T\\mathbf{Y} = \\mathbf{X}\\hat{\\mathbf{B}}.\n",
    "\\end{equation}\n",
    "\n",
    "Note that we have a coefficient vector for each response columns $\\mathbf{y}_k$, and hence a $(p+1)\\times K$ coefficient matrix $\\hat{\\mathbf{B}} = \\left(\\mathbf{X}^T\\mathbf{X}\\right)^{-1}\\mathbf{X}^T\\mathbf{Y}$. Here $\\mathbf{X}$ is the model matrix with $p+1$ columns with a leading columns of $1$'s for the intercept.\n",
    "\n",
    "A new observation with input $x$ is classified as follows:\n",
    "* Compute the fitted output $\\hat{f}(x)^T = (1, x^T)^T\\hat{\\mathbf{B}}$, a $K$ vector.\n",
    "* Identify the largest component and classify accordingly:  \n",
    "\n",
    "\\begin{equation}\n",
    "\\hat{G}(x) = \\arg\\max_{k\\in\\mathcal{G}} \\hat{f}_k(x).\n",
    "\\end{equation}"
   ]
  },
  {
   "cell_type": "code",
   "execution_count": null,
   "metadata": {},
   "outputs": [],
   "source": []
  }
 ],
 "metadata": {
  "language_info": {
   "name": "python"
  },
  "orig_nbformat": 4
 },
 "nbformat": 4,
 "nbformat_minor": 2
}
