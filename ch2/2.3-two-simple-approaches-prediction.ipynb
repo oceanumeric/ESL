{
 "cells": [
  {
   "cell_type": "markdown",
   "metadata": {},
   "source": [
    "# 2.3 Two Simple Approaches to Prediction: Least Squares and Nearest Neighbors\n",
    "\n",
    "## Important Point\n",
    "\n",
    "In this section we develop two simple but powerful prediction methods: \n",
    "the linear model fit by least squares and the k-nearest-neighbor prediction rule. \n",
    "The linear model makes _huge assumptions about structure and yields stable \n",
    "but possibly inaccurate predictions_. The method of k-nearest neighbors \n",
    "makes _very mild structural assumptions: its predictions are often accurate \n",
    "but can be unstable_. One should try to understand:\n",
    "\n",
    "* what does a stable prediction mean?\n",
    "* what does an accurate preciction mean? \n",
    "* how could we measure them? \n",
    "\n",
    "__Here is the answer__:\n",
    "\n",
    "> The linear decision boundary from least squares is very smooth, and apparently stable to fit. It does appear to rely heavily on the assumption that a linear decision boundary is appropriate. In language we will develop shortly, it has low variance and potentially high bias. On the other hand, the 𝑘-nearest-neighbor procedures do not appear to rely on any stringent assumptions about the underlying data, and can adapt to any situation. However, any particular subregion of the decision boundary depends on a handful of input points and their particular positions, and is thus wiggly and unstable-high variance and low bias.\n",
    "\n",
    "_Here is an illustration_:\n",
    "\n",
    "![bias-variance](https://i.stack.imgur.com/AF3UE.png)"
   ]
  },
  {
   "cell_type": "code",
   "execution_count": null,
   "metadata": {},
   "outputs": [],
   "source": []
  }
 ],
 "metadata": {
  "kernelspec": {
   "display_name": "Python 3.9.5 ('venv': venv)",
   "language": "python",
   "name": "python3"
  },
  "language_info": {
   "name": "python",
   "version": "3.9.5"
  },
  "orig_nbformat": 4,
  "vscode": {
   "interpreter": {
    "hash": "8e637eb1f212951f11bbcb105d1b42c01fcba4bbbd2a19d5c9065a96f28919fe"
   }
  }
 },
 "nbformat": 4,
 "nbformat_minor": 2
}
