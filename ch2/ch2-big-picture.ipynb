{
 "cells": [
  {
   "cell_type": "markdown",
   "metadata": {},
   "source": [
    "# Chapter 2 Overview of Supervised Learning\n",
    "\n",
    "Like the title indicates, this chapter gives the overview of supervised learning. This chapter covers a lot of stuff. I \n",
    "understand the authors are trying to give a overview of supervised\n",
    "learning at the very beginning. However it could be _overwhelming_ \n",
    "too. Threrefore, in this notebook, we will illustrate:\n",
    "\n",
    "* two simple approaches to prediction\n",
    "\n",
    "Based on this illustration, one should understand:\n",
    "\n",
    "* what the global method is\n",
    "* what the local method is\n",
    "\n",
    "With understanding of those two methods, one should be leaded to \n",
    "the famous __Bias-Variance Tradeoff__ by going through:\n",
    "\n",
    "* statistical decision theory\n",
    "* and local methods in high dimensions \n",
    "\n",
    "Therefore, in this notebook, we will __only__ cover:\n",
    "\n",
    "* 2.2 Variable Types and Terminology\n",
    "* 2.3 Two Simple Approaches to Prediction\n",
    "    * Least Square\n",
    "    * Nearest Neighborhood\n",
    "* 2.4 Statistical Decision Theory\n",
    "* 2.5 Local Methods in High Dimensions\n",
    "\n",
    "For other sections in this chapter, we will cover them in the following chapters as chapers 3 to 13 will discuss the following\n",
    "topics intensively:\n",
    "\n",
    "* Statistical Models, Supervised Learning and Function Approximation\n",
    "* Structured Regression Models\n",
    "* Classes of Restricted Estimators\n",
    "* Model Selection and the Bias–Variance Tradeoff\n",
    "\n",
    "The goal of supervised learning is to predict $Y$ given $X$, where $X$ is called\n",
    "input and $Y$ is called output. One should be aware of variable types:\n",
    "\n",
    "* continuous variable\n",
    "* discrete variable\n",
    "    * categorical\n",
    "    * ordered categorical \n",
    "\n",
    "Because it is supervised learning, we will always have a __model__ to predict\n",
    "$Y$ based on features of $X$. \n"
   ]
  },
  {
   "cell_type": "markdown",
   "metadata": {},
   "source": []
  }
 ],
 "metadata": {
  "kernelspec": {
   "display_name": "Python 3.9.5 ('venv': venv)",
   "language": "python",
   "name": "python3"
  },
  "language_info": {
   "name": "python",
   "version": "3.9.5"
  },
  "orig_nbformat": 4,
  "vscode": {
   "interpreter": {
    "hash": "8e637eb1f212951f11bbcb105d1b42c01fcba4bbbd2a19d5c9065a96f28919fe"
   }
  }
 },
 "nbformat": 4,
 "nbformat_minor": 2
}
