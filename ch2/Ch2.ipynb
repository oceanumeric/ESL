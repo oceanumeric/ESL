{
  "nbformat": 4,
  "nbformat_minor": 0,
  "metadata": {
    "colab": {
      "name": "Ch2.ipynb",
      "provenance": [],
      "collapsed_sections": [],
      "authorship_tag": "ABX9TyNHUAiDJzKl2RErd//dwlBY",
      "include_colab_link": true
    },
    "kernelspec": {
      "name": "python3",
      "display_name": "Python 3"
    },
    "language_info": {
      "name": "python"
    }
  },
  "cells": [
    {
      "cell_type": "markdown",
      "metadata": {
        "id": "view-in-github",
        "colab_type": "text"
      },
      "source": [
        "<a href=\"https://colab.research.google.com/github/oceanumeric/ESL/blob/main/ch2/Ch2.ipynb\" target=\"_parent\"><img src=\"https://colab.research.google.com/assets/colab-badge.svg\" alt=\"Open In Colab\"/></a>"
      ]
    },
    {
      "cell_type": "markdown",
      "source": [
        "# Chapter 2 Overview of Supervised Learning\n",
        "\n",
        "Like the title indicates, this chapter gives the overview of supervised learning:\n",
        "\n",
        "\n",
        "* Variable Types and Terminology\n",
        "* Two Simple Approaches to Prediction\n",
        "    * Least Squares\n",
        "    * Nearest Neighbors \n",
        "* Statistical Decision Theory\n",
        "* Local Methods in High Dimensions\n",
        "* Statistical Models, Supervised Learning and Function Approximation\n",
        "* Structured Regression Models\n",
        "* Classes of Restricted Estimators\n",
        "* Model Selection and the Bias–Variance Tradeoff\n",
        "\n",
        "The goal of supervised learning is to predict $Y$ given $X$, where $X$ is called\n",
        "input and $Y$ is called output. One should be aware of variable types:\n",
        "\n",
        "* continuous variable\n",
        "* discrete variable\n",
        "    * categorical\n",
        "    * ordered categorical \n"
      ],
      "metadata": {
        "id": "L-zKOPYph4Re"
      }
    },
    {
      "cell_type": "markdown",
      "source": [
        "## Two Simple Approaches to Prediction\n",
        "\n",
        "For the linear model, the estimation "
      ],
      "metadata": {
        "id": "qPnNFxFCh7j3"
      }
    },
    {
      "cell_type": "code",
      "execution_count": null,
      "metadata": {
        "id": "RlU39yQXwgQd"
      },
      "outputs": [],
      "source": [
        ""
      ]
    },
    {
      "cell_type": "markdown",
      "source": [
        "## References\n",
        "\n",
        "1. [Expected prediction error](https://stats.stackexchange.com/questions/92180/expected-prediction-error-derivation)"
      ],
      "metadata": {
        "id": "if5xMfCch84B"
      }
    },
    {
      "cell_type": "code",
      "source": [
        ""
      ],
      "metadata": {
        "id": "f0qouBQLiAwF"
      },
      "execution_count": null,
      "outputs": []
    }
  ]
}