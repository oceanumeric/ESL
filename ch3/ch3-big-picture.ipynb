{
 "cells": [
  {
   "cell_type": "markdown",
   "metadata": {},
   "source": [
    "# Linear Methods for Regression\n",
    "\n",
    "In this chapter we describe linear methods for regression, while in the next \n",
    "chapter we discuss linear methods for classification. On some topics we go \n",
    "into considerable detail, __as it is our firm belief that an understanding of \n",
    "linear methods is essential for understanding nonlinear ones__. In fact, \n",
    "many nonlinear techniques are direct generalizations of the linear methods \n",
    "discussed here.\n",
    "\n",
    "In this chapter, we will skip the least square estimation part and will\n",
    "focus on the following sections:\n",
    "\n",
    "* 3.3 Subset Selection\n",
    "* 3.4 Shrinkage Methods\n",
    "* 3.5 Methods Using Derived Input Directions\n",
    "* 3.6 Discussion: A Comparison of the Selection andShrinkageMethods\n",
    "* 3.7 Multiple Outcome Shrinkage and Selection\n",
    "* 3.8 More on the Lasso and Related Path Algorithms\n",
    "\n",
    "__Big Picture__: we are not very happy with least squares estimation, how could\n",
    "we make the linear regression work better? "
   ]
  },
  {
   "cell_type": "code",
   "execution_count": null,
   "metadata": {},
   "outputs": [],
   "source": []
  }
 ],
 "metadata": {
  "language_info": {
   "name": "python"
  },
  "orig_nbformat": 4
 },
 "nbformat": 4,
 "nbformat_minor": 2
}
